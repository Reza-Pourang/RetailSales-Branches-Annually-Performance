{
  "nbformat": 4,
  "nbformat_minor": 0,
  "metadata": {
    "colab": {
      "provenance": []
    },
    "kernelspec": {
      "name": "python3",
      "display_name": "Python 3"
    },
    "language_info": {
      "name": "python"
    }
  },
  "cells": [
    {
      "cell_type": "code",
      "execution_count": null,
      "metadata": {
        "colab": {
          "base_uri": "https://localhost:8080/"
        },
        "id": "MZnLUtZ-67a0",
        "outputId": "a398539f-a1f8-4b96-fded-ea02abc96eec"
      },
      "outputs": [
        {
          "output_type": "stream",
          "name": "stdout",
          "text": [
            "Mounted at /content/drive\n"
          ]
        }
      ],
      "source": [
        "#Import necessary libraries\n",
        "\n",
        "import pandas as pd\n",
        "import numpy as np\n",
        "import matplotlib.pyplot as plt\n",
        "import seaborn as sns\n",
        "\n",
        "#Load dataset\n",
        "from google.colab import drive\n",
        "drive.mount('/content/drive')\n",
        "Data = pd.read_excel('/content/drive/MyDrive/Colab Notebooks/Branch.xlsx')"
      ]
    },
    {
      "cell_type": "code",
      "source": [
        "#Initial check\n",
        "print(Data.head(5))\n",
        "print('\\n')\n",
        "print(Data.dtypes)\n",
        "print('\\n')\n",
        "print(Data.info())\n",
        "print('\\n')\n",
        "print(Data.isnull().sum())\n",
        "print('\\n')\n",
        "print(Data.duplicated().sum())"
      ],
      "metadata": {
        "id": "VV2sKUO17HWb"
      },
      "execution_count": null,
      "outputs": []
    },
    {
      "cell_type": "code",
      "source": [
        "#Drop the empty row\n",
        "Data = Data.drop(index=0).reset_index(drop=True)"
      ],
      "metadata": {
        "id": "Cyro9X7a7VJd"
      },
      "execution_count": null,
      "outputs": []
    },
    {
      "cell_type": "code",
      "source": [
        "#Preprocessing - rename the headers\n",
        "\n",
        "Data.rename(columns={\n",
        "               'Unnamed: 0': 'State',\n",
        "               'Unnamed: 2': 'MonthNumeric',\n",
        "               'Unnamed: 3': 'CustomerName',\n",
        "               'Unnamed: 5': 'VisitorName',\n",
        "               'Unnamed: 6': 'ProductName',\n",
        "               'Unnamed: 7': 'ProductGroup',\n",
        "               'Unnamed: 8': 'Cartons',\n",
        "               'Unnamed: 10': 'NetSales',\n",
        "               }, inplace=True)\n",
        "\n",
        "print(Data.info())"
      ],
      "metadata": {
        "colab": {
          "base_uri": "https://localhost:8080/"
        },
        "id": "k55kgmD57XPH",
        "outputId": "b5c316f2-5ae9-4ae5-d2f2-27120e3e35c0"
      },
      "execution_count": null,
      "outputs": [
        {
          "output_type": "stream",
          "name": "stdout",
          "text": [
            "<class 'pandas.core.frame.DataFrame'>\n",
            "RangeIndex: 114164 entries, 0 to 114163\n",
            "Data columns (total 11 columns):\n",
            " #   Column        Non-Null Count   Dtype \n",
            "---  ------        --------------   ----- \n",
            " 0   State         114164 non-null  object\n",
            " 1   Unnamed: 1    114164 non-null  object\n",
            " 2   MonthNumeric  114164 non-null  object\n",
            " 3   CustomerName  114164 non-null  object\n",
            " 4   Unnamed: 4    74342 non-null   object\n",
            " 5   VisitorName   114148 non-null  object\n",
            " 6   ProductName   114164 non-null  object\n",
            " 7   ProductGroup  114164 non-null  object\n",
            " 8   Cartons       113278 non-null  object\n",
            " 9   Unnamed: 9    114164 non-null  object\n",
            " 10  NetSales      112442 non-null  object\n",
            "dtypes: object(11)\n",
            "memory usage: 9.6+ MB\n",
            "None\n"
          ]
        }
      ]
    },
    {
      "cell_type": "code",
      "source": [
        "#Preprocessing - chose the valuable columns\n",
        "\n",
        "SelectedColumns = ['State', 'MonthNumeric', 'CustomerName', 'VisitorName', 'ProductName', 'ProductGroup', 'Cartons', 'NetSales']\n",
        "\n",
        "NewData = Data[SelectedColumns]\n",
        "print(NewData.info())"
      ],
      "metadata": {
        "colab": {
          "base_uri": "https://localhost:8080/"
        },
        "id": "kwefW-Mm7qea",
        "outputId": "b67ed15f-8890-45ee-aee9-73ecd5b09119"
      },
      "execution_count": null,
      "outputs": [
        {
          "output_type": "stream",
          "name": "stdout",
          "text": [
            "<class 'pandas.core.frame.DataFrame'>\n",
            "RangeIndex: 114164 entries, 0 to 114163\n",
            "Data columns (total 8 columns):\n",
            " #   Column        Non-Null Count   Dtype \n",
            "---  ------        --------------   ----- \n",
            " 0   State         114164 non-null  object\n",
            " 1   MonthNumeric  114164 non-null  object\n",
            " 2   CustomerName  114164 non-null  object\n",
            " 3   VisitorName   114148 non-null  object\n",
            " 4   ProductName   114164 non-null  object\n",
            " 5   ProductGroup  114164 non-null  object\n",
            " 6   Cartons       113278 non-null  object\n",
            " 7   NetSales      112442 non-null  object\n",
            "dtypes: object(8)\n",
            "memory usage: 7.0+ MB\n",
            "None\n"
          ]
        }
      ]
    },
    {
      "cell_type": "code",
      "source": [
        "#Preprocessing - define numeric codes for unique values\n",
        "\n",
        "NewData['CustomerCode'] = NewData['CustomerName'].astype('category').cat.codes\n",
        "NewData['VisitorCode'] = NewData['VisitorName'].astype('category').cat.codes\n",
        "NewData['ProductCode'] = NewData['ProductName'].astype('category').cat.codes\n",
        "NewData['ProductGroupCode'] = NewData['ProductGroup'].astype('category').cat.codes\n",
        "print(NewData.info())"
      ],
      "metadata": {
        "colab": {
          "base_uri": "https://localhost:8080/"
        },
        "id": "z3fD6xsQ7t8P",
        "outputId": "3f034821-4b02-4189-9944-d9b30ecddd2d"
      },
      "execution_count": null,
      "outputs": [
        {
          "output_type": "stream",
          "name": "stdout",
          "text": [
            "<class 'pandas.core.frame.DataFrame'>\n",
            "RangeIndex: 114164 entries, 0 to 114163\n",
            "Data columns (total 12 columns):\n",
            " #   Column            Non-Null Count   Dtype \n",
            "---  ------            --------------   ----- \n",
            " 0   State             114164 non-null  object\n",
            " 1   MonthNumeric      114164 non-null  object\n",
            " 2   CustomerName      114164 non-null  object\n",
            " 3   VisitorName       114148 non-null  object\n",
            " 4   ProductName       114164 non-null  object\n",
            " 5   ProductGroup      114164 non-null  object\n",
            " 6   Cartons           113278 non-null  object\n",
            " 7   NetSales          112442 non-null  object\n",
            " 8   CustomerCode      114164 non-null  int16 \n",
            " 9   VisitorCode       114164 non-null  int16 \n",
            " 10  ProductCode       114164 non-null  int16 \n",
            " 11  ProductGroupCode  114164 non-null  int8  \n",
            "dtypes: int16(3), int8(1), object(8)\n",
            "memory usage: 7.7+ MB\n",
            "None\n"
          ]
        },
        {
          "output_type": "stream",
          "name": "stderr",
          "text": [
            "<ipython-input-7-c2e3c920fda9>:3: SettingWithCopyWarning: \n",
            "A value is trying to be set on a copy of a slice from a DataFrame.\n",
            "Try using .loc[row_indexer,col_indexer] = value instead\n",
            "\n",
            "See the caveats in the documentation: https://pandas.pydata.org/pandas-docs/stable/user_guide/indexing.html#returning-a-view-versus-a-copy\n",
            "  NewData['CustomerCode'] = NewData['CustomerName'].astype('category').cat.codes\n",
            "<ipython-input-7-c2e3c920fda9>:4: SettingWithCopyWarning: \n",
            "A value is trying to be set on a copy of a slice from a DataFrame.\n",
            "Try using .loc[row_indexer,col_indexer] = value instead\n",
            "\n",
            "See the caveats in the documentation: https://pandas.pydata.org/pandas-docs/stable/user_guide/indexing.html#returning-a-view-versus-a-copy\n",
            "  NewData['VisitorCode'] = NewData['VisitorName'].astype('category').cat.codes\n"
          ]
        }
      ]
    },
    {
      "cell_type": "code",
      "source": [
        "#Preprocessing - convert datatypes\n",
        "\n",
        "NewData['MonthNumeric'] = NewData['MonthNumeric'].astype(int)\n",
        "\n",
        "NumericColumns = ['NetSales', 'Cartons']\n",
        "\n",
        "for column in NumericColumns:\n",
        "    NewData[column] = pd.to_numeric(NewData[column], errors='coerce')\n",
        "\n",
        "IdentifierColumns = ['CustomerCode', 'VisitorCode', 'ProductCode', 'ProductGroupCode']\n",
        "\n",
        "for column in IdentifierColumns:\n",
        "    NewData[column] = NewData[column].astype(str)\n",
        "\n",
        "print(NewData.info())"
      ],
      "metadata": {
        "colab": {
          "base_uri": "https://localhost:8080/"
        },
        "id": "uuuV1YGT9IVO",
        "outputId": "54ab9b22-713d-43e4-a576-ae5250b5e8b2"
      },
      "execution_count": null,
      "outputs": [
        {
          "output_type": "stream",
          "name": "stdout",
          "text": [
            "<class 'pandas.core.frame.DataFrame'>\n",
            "RangeIndex: 114164 entries, 0 to 114163\n",
            "Data columns (total 12 columns):\n",
            " #   Column            Non-Null Count   Dtype  \n",
            "---  ------            --------------   -----  \n",
            " 0   State             114164 non-null  object \n",
            " 1   MonthNumeric      114164 non-null  int64  \n",
            " 2   CustomerName      114164 non-null  object \n",
            " 3   VisitorName       114148 non-null  object \n",
            " 4   ProductName       114164 non-null  object \n",
            " 5   ProductGroup      114164 non-null  object \n",
            " 6   Cartons           113278 non-null  float64\n",
            " 7   NetSales          112442 non-null  float64\n",
            " 8   CustomerCode      114164 non-null  object \n",
            " 9   VisitorCode       114164 non-null  object \n",
            " 10  ProductCode       114164 non-null  object \n",
            " 11  ProductGroupCode  114164 non-null  object \n",
            "dtypes: float64(2), int64(1), object(9)\n",
            "memory usage: 10.5+ MB\n",
            "None\n"
          ]
        }
      ]
    },
    {
      "cell_type": "code",
      "source": [
        "#Save the data to a dataframe and new csv file\n",
        "\n",
        "FilePath = '/content/drive/MyDrive/Colab Notebooks/Branch-Cleaned.csv'\n",
        "NewData.to_csv(FilePath, index=False)"
      ],
      "metadata": {
        "id": "kpgK47x4-qLW"
      },
      "execution_count": null,
      "outputs": []
    }
  ]
}